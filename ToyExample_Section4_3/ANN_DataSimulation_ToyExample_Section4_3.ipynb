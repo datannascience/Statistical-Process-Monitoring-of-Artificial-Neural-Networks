{
  "nbformat": 4,
  "nbformat_minor": 0,
  "metadata": {
    "colab": {
      "provenance": []
    },
    "kernelspec": {
      "name": "python3",
      "display_name": "Python 3"
    },
    "language_info": {
      "name": "python"
    }
  },
  "cells": [
    {
      "cell_type": "markdown",
      "source": [
        "Simulation study: Toy example for checking the ability of detecting concept drift on simulated data"
      ],
      "metadata": {
        "id": "kp33zBImZ3wf"
      }
    },
    {
      "cell_type": "code",
      "source": [
        "import numpy as np \n",
        "import matplotlib.pyplot as plt\n",
        "import seaborn as sns; sns.set()\n",
        "import sys\n",
        "import pandas as pd\n",
        "import math\n",
        "import random\n",
        "import statistics\n",
        "import scipy\n",
        "import tensorflow\n",
        "\n",
        "from sklearn.model_selection import train_test_split\n",
        "from sklearn.linear_model import LogisticRegression\n",
        "from sklearn.metrics import accuracy_score\n",
        "from sklearn.utils import shuffle\n",
        "from sklearn.model_selection import cross_val_score\n",
        "from sklearn.preprocessing import LabelEncoder\n",
        "from sklearn.model_selection import StratifiedKFold\n",
        "from sklearn.preprocessing import StandardScaler\n",
        "from sklearn.pipeline import Pipeline\n",
        "\n",
        "from tensorflow import keras\n",
        "from tensorflow.keras import models\n",
        "from tensorflow.keras import layers\n",
        "from tensorflow.keras import activations\n",
        "from tensorflow.keras.models import Sequential\n",
        "from tensorflow.keras.models import load_model\n",
        "from tensorflow.keras.layers import Dense\n",
        "from tensorflow.keras.models import Model\n",
        "from tensorflow.keras.wrappers.scikit_learn import KerasClassifier\n",
        "\n",
        "from scipy.stats import beta\n",
        "from sklearn import preprocessing\n",
        "from collections import Counter\n",
        "\n",
        "from mpl_toolkits import mplot3d"
      ],
      "metadata": {
        "id": "kyFEI2mCZ86o"
      },
      "execution_count": 1,
      "outputs": []
    },
    {
      "cell_type": "code",
      "source": [
        "# SET RANDOM SEED FOR REPRODUCIBILITY\n",
        "seed = 10\n",
        "np.random.seed(seed)"
      ],
      "metadata": {
        "id": "VCOPr6jrZ-1u"
      },
      "execution_count": 2,
      "outputs": []
    },
    {
      "cell_type": "code",
      "source": [
        "# # Define dimension\n",
        "d = 7\n",
        "n = 100\n",
        "\n",
        "# DISTRIBUTION 1\n",
        "# Set mean vector \n",
        "m_1 = np.full((d,), 0.0)"
      ],
      "metadata": {
        "id": "J7BOCZldaEVO"
      },
      "execution_count": 3,
      "outputs": []
    },
    {
      "cell_type": "code",
      "source": [
        "m_1"
      ],
      "metadata": {
        "colab": {
          "base_uri": "https://localhost:8080/"
        },
        "id": "HTNESjiAl5fe",
        "outputId": "f786d920-d449-481f-99d0-a9f7343c6114"
      },
      "execution_count": null,
      "outputs": [
        {
          "output_type": "execute_result",
          "data": {
            "text/plain": [
              "array([0., 0., 0., 0., 0., 0., 0.])"
            ]
          },
          "metadata": {},
          "execution_count": 20
        }
      ]
    },
    {
      "cell_type": "code",
      "source": [
        "# Set variance-covariance matrix\n",
        "cov_mat_1 = np.matrix('1.0 0.3 0.0 0.0 0.0 0.0 0.0; 0.3 1 0.3 0.0 0.0 0.0 0.0; 0.0 0.3 1.0 0.3 0.0 0.0 0.0; 0.0 0.0 0.3 1.0 0.3 0.0 0.0; 0.0 0.0 0.0 0.3 1.0 0.3 0.0; 0.0 0.0 0.0 0.0 0.3 1.0 0.3; 0.0 0.0 0.0 0.0 0.0 0.3 1.0')"
      ],
      "metadata": {
        "id": "oJ-YpcMqaoE3"
      },
      "execution_count": null,
      "outputs": []
    },
    {
      "cell_type": "code",
      "source": [
        "cov_mat_1"
      ],
      "metadata": {
        "colab": {
          "base_uri": "https://localhost:8080/"
        },
        "id": "voimWP9xb8YV",
        "outputId": "fbfc1a4b-7d63-46bd-e735-4a9a02e4c888"
      },
      "execution_count": null,
      "outputs": [
        {
          "output_type": "execute_result",
          "data": {
            "text/plain": [
              "matrix([[1. , 0.3, 0. , 0. , 0. , 0. , 0. ],\n",
              "        [0.3, 1. , 0.3, 0. , 0. , 0. , 0. ],\n",
              "        [0. , 0.3, 1. , 0.3, 0. , 0. , 0. ],\n",
              "        [0. , 0. , 0.3, 1. , 0.3, 0. , 0. ],\n",
              "        [0. , 0. , 0. , 0.3, 1. , 0.3, 0. ],\n",
              "        [0. , 0. , 0. , 0. , 0.3, 1. , 0.3],\n",
              "        [0. , 0. , 0. , 0. , 0. , 0.3, 1. ]])"
            ]
          },
          "metadata": {},
          "execution_count": 11
        }
      ]
    },
    {
      "cell_type": "code",
      "source": [
        "# Create the first sample\n",
        "z = np.random.multivariate_normal(mean=m_1, cov=cov_mat_1, size=n)"
      ],
      "metadata": {
        "id": "fHP5huh9GeO2"
      },
      "execution_count": null,
      "outputs": []
    },
    {
      "cell_type": "code",
      "source": [
        "# Check the sample size\n",
        "len(np.unique(z, axis=0))"
      ],
      "metadata": {
        "colab": {
          "base_uri": "https://localhost:8080/"
        },
        "id": "y0_EVEHYsv1x",
        "outputId": "6dc3b861-d0ad-4214-b57c-89a601625000"
      },
      "execution_count": null,
      "outputs": [
        {
          "output_type": "execute_result",
          "data": {
            "text/plain": [
              "100"
            ]
          },
          "metadata": {},
          "execution_count": 15
        }
      ]
    },
    {
      "cell_type": "code",
      "source": [
        "# Set the class label 0 for the first sample\n",
        "labels_z = np.repeat(0, n)"
      ],
      "metadata": {
        "id": "5REIBo0CGt0F"
      },
      "execution_count": null,
      "outputs": []
    },
    {
      "cell_type": "code",
      "source": [
        "# DISTRIBUTION 2\n",
        "# Set mean vector \n",
        "m_2 = np.full((d,), 10.0)"
      ],
      "metadata": {
        "id": "vBGjeEK7HX1O"
      },
      "execution_count": null,
      "outputs": []
    },
    {
      "cell_type": "code",
      "source": [
        "m_2"
      ],
      "metadata": {
        "id": "SWxrulJieNcG",
        "colab": {
          "base_uri": "https://localhost:8080/"
        },
        "outputId": "7d085f1f-f22d-4186-fe85-8bed3a4cfb89"
      },
      "execution_count": null,
      "outputs": [
        {
          "output_type": "execute_result",
          "data": {
            "text/plain": [
              "array([10., 10., 10., 10., 10., 10., 10.])"
            ]
          },
          "metadata": {},
          "execution_count": 24
        }
      ]
    },
    {
      "cell_type": "code",
      "source": [
        "# Set variance-covariance matrix\n",
        "cov_mat_2 = np.matrix('1.0 -0.3 0.0 0.0 0.0 0.0 0.0; -0.3 1 -0.3 0.0 0.0 0.0 0.0; 0.0 -0.3 1.0 -0.3 0.0 0.0 0.0; 0.0 0.0 -0.3 1.0 -0.3 0.0 0.0; 0.0 0.0 0.0 -0.3 1.0 -0.3 0.0; 0.0 0.0 0.0 0.0 -0.3 1.0 -0.3; 0.0 0.0 0.0 0.0 0.0 -0.3 1.0')"
      ],
      "metadata": {
        "id": "V7qUvzVLnFtZ"
      },
      "execution_count": null,
      "outputs": []
    },
    {
      "cell_type": "code",
      "source": [
        "# Create the second sample\n",
        "z_2 = np.random.multivariate_normal(mean=m_2, cov=cov_mat_2, size=n)"
      ],
      "metadata": {
        "id": "9zL3Im48fJJH"
      },
      "execution_count": null,
      "outputs": []
    },
    {
      "cell_type": "code",
      "source": [
        "# Check the sample size\n",
        "len(np.unique(z_2, axis=0))"
      ],
      "metadata": {
        "colab": {
          "base_uri": "https://localhost:8080/"
        },
        "id": "YZlzRdxFtSq5",
        "outputId": "a8643183-3a41-49b4-d99c-6c60c496dafd"
      },
      "execution_count": null,
      "outputs": [
        {
          "output_type": "execute_result",
          "data": {
            "text/plain": [
              "100"
            ]
          },
          "metadata": {},
          "execution_count": 31
        }
      ]
    },
    {
      "cell_type": "code",
      "source": [
        "# Check the dimension\n",
        "z_2.shape\n"
      ],
      "metadata": {
        "colab": {
          "base_uri": "https://localhost:8080/"
        },
        "id": "dFtMAilFdttG",
        "outputId": "c6286182-fa82-4db2-9062-de8a05512b21"
      },
      "execution_count": null,
      "outputs": [
        {
          "output_type": "execute_result",
          "data": {
            "text/plain": [
              "(100, 7)"
            ]
          },
          "metadata": {},
          "execution_count": 30
        }
      ]
    },
    {
      "cell_type": "code",
      "source": [
        "# Set the class label 0 for the first sample\n",
        "labels_z_2 = np.repeat(1, n)"
      ],
      "metadata": {
        "id": "6mU_nUovfUBF"
      },
      "execution_count": null,
      "outputs": []
    },
    {
      "cell_type": "code",
      "source": [
        "# Create training data by combining both samples\n",
        "train_data = np.concatenate((z, z_2))"
      ],
      "metadata": {
        "id": "x2kWmiYqfUpu"
      },
      "execution_count": null,
      "outputs": []
    },
    {
      "cell_type": "code",
      "source": [
        "# Check the training data\n",
        "train_data"
      ],
      "metadata": {
        "colab": {
          "base_uri": "https://localhost:8080/"
        },
        "id": "u6_TP7W9tjs_",
        "outputId": "0aac29af-87b6-4122-bd60-eaf0c10a5aee"
      },
      "execution_count": null,
      "outputs": [
        {
          "output_type": "execute_result",
          "data": {
            "text/plain": [
              "array([[ 0.35818209,  0.15143332, -0.26814705, ..., -0.51000242,\n",
              "        -0.28251139, -2.15927221],\n",
              "       [ 0.86019169, -0.60576483,  0.03579972, ...,  1.15063767,\n",
              "         1.25305744,  2.60668036],\n",
              "       [-1.34350011, -1.12876548, -0.98266269, ...,  0.53386872,\n",
              "         0.92313113,  0.62342898],\n",
              "       ...,\n",
              "       [ 9.10011941,  9.7254189 ,  9.3463393 , ..., 11.37337855,\n",
              "         9.72394735,  9.42648092],\n",
              "       [11.46769714,  8.76535909,  9.41270866, ..., 11.16877884,\n",
              "         9.10877382, 10.7170322 ],\n",
              "       [11.40127794, 10.91160058,  9.6307249 , ...,  9.67559314,\n",
              "         9.52955832,  9.51036965]])"
            ]
          },
          "metadata": {},
          "execution_count": 34
        }
      ]
    },
    {
      "cell_type": "code",
      "source": [
        "# Combine the labels of samples 1 and 2\n",
        "train_labels = np.concatenate((labels_z, labels_z_2))"
      ],
      "metadata": {
        "id": "2jXCfTE3fWIe"
      },
      "execution_count": null,
      "outputs": []
    },
    {
      "cell_type": "code",
      "source": [
        "# Check the labels of the training data\n",
        "train_labels"
      ],
      "metadata": {
        "colab": {
          "base_uri": "https://localhost:8080/"
        },
        "id": "eyy2Qj0ZeN6O",
        "outputId": "5efe17b8-dc68-41a4-9df2-9bb92a3251a8"
      },
      "execution_count": null,
      "outputs": [
        {
          "output_type": "execute_result",
          "data": {
            "text/plain": [
              "array([0, 0, 0, 0, 0, 0, 0, 0, 0, 0, 0, 0, 0, 0, 0, 0, 0, 0, 0, 0, 0, 0,\n",
              "       0, 0, 0, 0, 0, 0, 0, 0, 0, 0, 0, 0, 0, 0, 0, 0, 0, 0, 0, 0, 0, 0,\n",
              "       0, 0, 0, 0, 0, 0, 0, 0, 0, 0, 0, 0, 0, 0, 0, 0, 0, 0, 0, 0, 0, 0,\n",
              "       0, 0, 0, 0, 0, 0, 0, 0, 0, 0, 0, 0, 0, 0, 0, 0, 0, 0, 0, 0, 0, 0,\n",
              "       0, 0, 0, 0, 0, 0, 0, 0, 0, 0, 0, 0, 1, 1, 1, 1, 1, 1, 1, 1, 1, 1,\n",
              "       1, 1, 1, 1, 1, 1, 1, 1, 1, 1, 1, 1, 1, 1, 1, 1, 1, 1, 1, 1, 1, 1,\n",
              "       1, 1, 1, 1, 1, 1, 1, 1, 1, 1, 1, 1, 1, 1, 1, 1, 1, 1, 1, 1, 1, 1,\n",
              "       1, 1, 1, 1, 1, 1, 1, 1, 1, 1, 1, 1, 1, 1, 1, 1, 1, 1, 1, 1, 1, 1,\n",
              "       1, 1, 1, 1, 1, 1, 1, 1, 1, 1, 1, 1, 1, 1, 1, 1, 1, 1, 1, 1, 1, 1,\n",
              "       1, 1])"
            ]
          },
          "metadata": {},
          "execution_count": 36
        }
      ]
    },
    {
      "cell_type": "code",
      "source": [
        "# Shuffle the training data, so that the samples of class 0 and class 1 appear randomly during the training\n",
        "X, y = shuffle(train_data, train_labels, random_state=0)"
      ],
      "metadata": {
        "id": "6KyQBwtgfYZ3"
      },
      "execution_count": null,
      "outputs": []
    },
    {
      "cell_type": "code",
      "source": [
        "# Check the training data after shuffling\n",
        "X"
      ],
      "metadata": {
        "colab": {
          "base_uri": "https://localhost:8080/"
        },
        "id": "Yi-p0S1WfOvw",
        "outputId": "67134535-309c-4f38-88f7-ad98bb793f85"
      },
      "execution_count": null,
      "outputs": [
        {
          "output_type": "execute_result",
          "data": {
            "text/plain": [
              "array([[ 0.08014956, -0.12043239, -2.23622657, ...,  1.36952486,\n",
              "         0.46004279, -0.55128187],\n",
              "       [10.03514801,  9.39061718,  9.86263508, ..., 10.2593283 ,\n",
              "         9.176038  , 10.06780134],\n",
              "       [10.13168817,  8.70567735,  9.17798847, ..., 10.7820078 ,\n",
              "         9.84963806, 10.64363589],\n",
              "       ...,\n",
              "       [ 7.88472579, 10.84068926,  8.22355615, ...,  9.76070003,\n",
              "         9.85520537,  9.31291999],\n",
              "       [-0.09765333, -0.54193948, -1.08520308, ..., -0.09903819,\n",
              "         0.9896409 ,  2.08431878],\n",
              "       [ 9.66558721, 10.15406567, 10.79663888, ..., 10.49867514,\n",
              "        11.17502335,  8.54462958]])"
            ]
          },
          "metadata": {},
          "execution_count": 38
        }
      ]
    },
    {
      "cell_type": "code",
      "source": [
        "# Check the labels of the training data after shuffling\n",
        "y"
      ],
      "metadata": {
        "colab": {
          "base_uri": "https://localhost:8080/"
        },
        "id": "-Fk9AW2TfQtI",
        "outputId": "bf6297d6-4ccb-4bf8-df2d-d84b6f260238"
      },
      "execution_count": null,
      "outputs": [
        {
          "output_type": "execute_result",
          "data": {
            "text/plain": [
              "array([0, 1, 1, 0, 1, 1, 0, 1, 0, 1, 0, 1, 1, 1, 0, 0, 0, 1, 0, 0, 1, 1,\n",
              "       0, 1, 0, 1, 1, 1, 1, 0, 0, 0, 1, 1, 0, 1, 1, 0, 0, 1, 1, 0, 0, 1,\n",
              "       1, 0, 0, 0, 1, 1, 0, 1, 1, 0, 1, 0, 0, 1, 0, 0, 1, 0, 1, 0, 1, 0,\n",
              "       0, 1, 0, 0, 1, 0, 1, 1, 1, 0, 1, 0, 0, 1, 1, 0, 1, 1, 1, 0, 0, 0,\n",
              "       1, 1, 0, 0, 1, 0, 1, 1, 1, 1, 0, 1, 1, 1, 0, 0, 0, 1, 0, 0, 1, 0,\n",
              "       0, 0, 0, 0, 0, 1, 0, 1, 1, 0, 0, 0, 1, 0, 1, 0, 0, 1, 1, 1, 0, 0,\n",
              "       0, 1, 1, 1, 1, 0, 1, 0, 1, 1, 0, 0, 0, 0, 1, 1, 0, 1, 1, 1, 0, 0,\n",
              "       1, 0, 1, 1, 0, 0, 1, 1, 0, 1, 1, 1, 0, 1, 1, 1, 0, 0, 0, 0, 1, 1,\n",
              "       1, 0, 0, 0, 1, 0, 1, 1, 1, 0, 0, 1, 0, 0, 0, 0, 0, 0, 1, 0, 1, 1,\n",
              "       0, 1])"
            ]
          },
          "metadata": {},
          "execution_count": 39
        }
      ]
    },
    {
      "cell_type": "code",
      "source": [
        "# Create test data \n",
        "n_test = 25\n",
        "z_test = np.random.multivariate_normal(mean=m_1, cov=cov_mat_1, size=n_test)\n",
        "z_2_test = np.random.multivariate_normal(mean=m_2, cov=cov_mat_2, size=n_test)\n",
        "\n",
        "X_test = np.concatenate((z_test, z_2_test))\n",
        "\n",
        "labels_z_test = np.repeat(0, n_test)\n",
        "labels_z_2_test = np.repeat(1, n_test)\n",
        "\n",
        "y_test = np.concatenate((labels_z_test, labels_z_2_test))"
      ],
      "metadata": {
        "id": "nVL6qFiKfaLo"
      },
      "execution_count": null,
      "outputs": []
    },
    {
      "cell_type": "code",
      "source": [
        "# Shuffle the test data\n",
        "X_test_shuffled, y_test_shuffled = shuffle(X_test, y_test, random_state=0)"
      ],
      "metadata": {
        "id": "SUDp8poagSYA"
      },
      "execution_count": null,
      "outputs": []
    },
    {
      "cell_type": "markdown",
      "source": [
        "Model where the embeddings is taken before ReLU "
      ],
      "metadata": {
        "id": "iNncWd4Qfe7_"
      }
    },
    {
      "cell_type": "code",
      "source": [
        "# Create the neural network model with two hidden layers\n",
        "model = Sequential([Dense(5, input_shape=(7,),activation='relu')])\n",
        "model.add(layers.Dense(3))\n",
        "model.add(layers.Activation(activations.relu))\n",
        "model.add(layers.Dense(1, activation='sigmoid'))\n",
        "model.summary()\n"
      ],
      "metadata": {
        "colab": {
          "base_uri": "https://localhost:8080/"
        },
        "id": "WocfaszbfbFG",
        "outputId": "0c2fa00e-ec1e-4a92-9e94-bc3d9d50fcb1"
      },
      "execution_count": 4,
      "outputs": [
        {
          "output_type": "stream",
          "name": "stdout",
          "text": [
            "Model: \"sequential\"\n",
            "_________________________________________________________________\n",
            " Layer (type)                Output Shape              Param #   \n",
            "=================================================================\n",
            " dense (Dense)               (None, 5)                 40        \n",
            "                                                                 \n",
            " dense_1 (Dense)             (None, 3)                 18        \n",
            "                                                                 \n",
            " activation (Activation)     (None, 3)                 0         \n",
            "                                                                 \n",
            " dense_2 (Dense)             (None, 1)                 4         \n",
            "                                                                 \n",
            "=================================================================\n",
            "Total params: 62\n",
            "Trainable params: 62\n",
            "Non-trainable params: 0\n",
            "_________________________________________________________________\n"
          ]
        }
      ]
    },
    {
      "cell_type": "code",
      "source": [
        "# Train for 30 epochs and analyze\n",
        "opt = keras.optimizers.Adam()\n",
        "model.compile(optimizer=opt,\n",
        "              loss='binary_crossentropy',\n",
        "              metrics=['accuracy'])\n",
        "\n",
        "history_fit = model.fit(X, y, epochs=30, batch_size=1, verbose = 2, validation_data= (X_test_shuffled, y_test_shuffled))"
      ],
      "metadata": {
        "colab": {
          "base_uri": "https://localhost:8080/"
        },
        "id": "v-waWuDHgD0f",
        "outputId": "0c2caa05-8375-4183-f7c6-7cadb18c52e5"
      },
      "execution_count": null,
      "outputs": [
        {
          "output_type": "stream",
          "name": "stdout",
          "text": [
            "Epoch 1/30\n",
            "200/200 - 1s - loss: 0.7038 - accuracy: 0.4600 - val_loss: 0.6958 - val_accuracy: 0.5000 - 1s/epoch - 6ms/step\n",
            "Epoch 2/30\n",
            "200/200 - 0s - loss: 0.6970 - accuracy: 0.4650 - val_loss: 0.6938 - val_accuracy: 0.4200 - 244ms/epoch - 1ms/step\n",
            "Epoch 3/30\n",
            "200/200 - 0s - loss: 0.6948 - accuracy: 0.4050 - val_loss: 0.6933 - val_accuracy: 0.4600 - 248ms/epoch - 1ms/step\n",
            "Epoch 4/30\n",
            "200/200 - 0s - loss: 0.6938 - accuracy: 0.4550 - val_loss: 0.6932 - val_accuracy: 0.4600 - 280ms/epoch - 1ms/step\n",
            "Epoch 5/30\n",
            "200/200 - 0s - loss: 0.6935 - accuracy: 0.4350 - val_loss: 0.6931 - val_accuracy: 0.5000 - 286ms/epoch - 1ms/step\n",
            "Epoch 6/30\n",
            "200/200 - 0s - loss: 0.6932 - accuracy: 0.5050 - val_loss: 0.6931 - val_accuracy: 0.5400 - 263ms/epoch - 1ms/step\n",
            "Epoch 7/30\n",
            "200/200 - 0s - loss: 0.6928 - accuracy: 0.5500 - val_loss: 0.6928 - val_accuracy: 0.5800 - 281ms/epoch - 1ms/step\n",
            "Epoch 8/30\n",
            "200/200 - 0s - loss: 0.6909 - accuracy: 0.5150 - val_loss: 0.6895 - val_accuracy: 0.6800 - 275ms/epoch - 1ms/step\n",
            "Epoch 9/30\n",
            "200/200 - 0s - loss: 0.6677 - accuracy: 0.5000 - val_loss: 0.6415 - val_accuracy: 0.8000 - 251ms/epoch - 1ms/step\n",
            "Epoch 10/30\n",
            "200/200 - 0s - loss: 0.5853 - accuracy: 0.8600 - val_loss: 0.5621 - val_accuracy: 0.8600 - 246ms/epoch - 1ms/step\n",
            "Epoch 11/30\n",
            "200/200 - 0s - loss: 0.5020 - accuracy: 0.9200 - val_loss: 0.4941 - val_accuracy: 0.8800 - 281ms/epoch - 1ms/step\n",
            "Epoch 12/30\n",
            "200/200 - 0s - loss: 0.4425 - accuracy: 0.9500 - val_loss: 0.4386 - val_accuracy: 0.9400 - 241ms/epoch - 1ms/step\n",
            "Epoch 13/30\n",
            "200/200 - 0s - loss: 0.4003 - accuracy: 0.9750 - val_loss: 0.4003 - val_accuracy: 0.9600 - 261ms/epoch - 1ms/step\n",
            "Epoch 14/30\n",
            "200/200 - 0s - loss: 0.3639 - accuracy: 0.9800 - val_loss: 0.3693 - val_accuracy: 0.9600 - 271ms/epoch - 1ms/step\n",
            "Epoch 15/30\n",
            "200/200 - 0s - loss: 0.3286 - accuracy: 0.9900 - val_loss: 0.3376 - val_accuracy: 1.0000 - 278ms/epoch - 1ms/step\n",
            "Epoch 16/30\n",
            "200/200 - 0s - loss: 0.3017 - accuracy: 0.9950 - val_loss: 0.3041 - val_accuracy: 1.0000 - 272ms/epoch - 1ms/step\n",
            "Epoch 17/30\n",
            "200/200 - 0s - loss: 0.2774 - accuracy: 0.9900 - val_loss: 0.2816 - val_accuracy: 1.0000 - 274ms/epoch - 1ms/step\n",
            "Epoch 18/30\n",
            "200/200 - 0s - loss: 0.2527 - accuracy: 0.9950 - val_loss: 0.2553 - val_accuracy: 1.0000 - 265ms/epoch - 1ms/step\n",
            "Epoch 19/30\n",
            "200/200 - 0s - loss: 0.2329 - accuracy: 0.9950 - val_loss: 0.2378 - val_accuracy: 1.0000 - 262ms/epoch - 1ms/step\n",
            "Epoch 20/30\n",
            "200/200 - 0s - loss: 0.2141 - accuracy: 1.0000 - val_loss: 0.2153 - val_accuracy: 1.0000 - 277ms/epoch - 1ms/step\n",
            "Epoch 21/30\n",
            "200/200 - 0s - loss: 0.1953 - accuracy: 1.0000 - val_loss: 0.1961 - val_accuracy: 1.0000 - 268ms/epoch - 1ms/step\n",
            "Epoch 22/30\n",
            "200/200 - 0s - loss: 0.1800 - accuracy: 1.0000 - val_loss: 0.1824 - val_accuracy: 1.0000 - 277ms/epoch - 1ms/step\n",
            "Epoch 23/30\n",
            "200/200 - 0s - loss: 0.1663 - accuracy: 1.0000 - val_loss: 0.1659 - val_accuracy: 1.0000 - 250ms/epoch - 1ms/step\n",
            "Epoch 24/30\n",
            "200/200 - 0s - loss: 0.1522 - accuracy: 1.0000 - val_loss: 0.1515 - val_accuracy: 1.0000 - 248ms/epoch - 1ms/step\n",
            "Epoch 25/30\n",
            "200/200 - 0s - loss: 0.1395 - accuracy: 1.0000 - val_loss: 0.1388 - val_accuracy: 1.0000 - 272ms/epoch - 1ms/step\n",
            "Epoch 26/30\n",
            "200/200 - 0s - loss: 0.1299 - accuracy: 1.0000 - val_loss: 0.1291 - val_accuracy: 1.0000 - 279ms/epoch - 1ms/step\n",
            "Epoch 27/30\n",
            "200/200 - 0s - loss: 0.1191 - accuracy: 1.0000 - val_loss: 0.1180 - val_accuracy: 1.0000 - 280ms/epoch - 1ms/step\n",
            "Epoch 28/30\n",
            "200/200 - 0s - loss: 0.1094 - accuracy: 1.0000 - val_loss: 0.1081 - val_accuracy: 1.0000 - 268ms/epoch - 1ms/step\n",
            "Epoch 29/30\n",
            "200/200 - 0s - loss: 0.1006 - accuracy: 1.0000 - val_loss: 0.0991 - val_accuracy: 1.0000 - 251ms/epoch - 1ms/step\n",
            "Epoch 30/30\n",
            "200/200 - 0s - loss: 0.0933 - accuracy: 1.0000 - val_loss: 0.0923 - val_accuracy: 1.0000 - 306ms/epoch - 2ms/step\n"
          ]
        }
      ]
    },
    {
      "cell_type": "code",
      "source": [
        "# summarize history for accuracy\n",
        "plt.plot(history_fit.history['accuracy'])\n",
        "plt.plot(history_fit.history['val_accuracy'])\n",
        "plt.title('model accuracy')\n",
        "plt.ylabel('accuracy')\n",
        "plt.xlabel('epoch')\n",
        "plt.legend(['Train', 'Validation'], loc='upper left')\n",
        "#plt.show()\n",
        "plt.savefig('ResultsAccuracy_ToyExample_30epochs.pdf')"
      ],
      "metadata": {
        "colab": {
          "base_uri": "https://localhost:8080/",
          "height": 480
        },
        "id": "iHMLihU1gbs3",
        "outputId": "97e021ac-4cb3-40bf-e16b-fb91d5590161"
      },
      "execution_count": null,
      "outputs": [
        {
          "output_type": "display_data",
          "data": {
            "text/plain": [
              "<Figure size 640x480 with 1 Axes>"
            ],
            "image/png": "[encoded data removed]"
          },
          "metadata": {}
        }
      ]
    },
    {
      "cell_type": "code",
      "source": [
        "# summarize history for loss\n",
        "plt.plot(history_fit.history['loss'])\n",
        "plt.plot(history_fit.history['val_loss'])\n",
        "plt.title('model loss')\n",
        "plt.ylabel('loss')\n",
        "plt.xlabel('epoch')\n",
        "plt.legend(['Train', 'Validation'], loc='upper left')\n",
        "#plt.show()\n",
        "plt.savefig('ResultsLoss_ToyExample_30epochs.pdf')"
      ],
      "metadata": {
        "colab": {
          "base_uri": "https://localhost:8080/",
          "height": 480
        },
        "id": "BuWaOIwzgwAO",
        "outputId": "c28424cf-f2d1-478f-cead-83160db0c2d0"
      },
      "execution_count": null,
      "outputs": [
        {
          "output_type": "display_data",
          "data": {
            "text/plain": [
              "<Figure size 640x480 with 1 Axes>"
            ],
            "image/png": "[encoded data removed]"
          },
          "metadata": {}
        }
      ]
    },
    {
      "cell_type": "markdown",
      "source": [
        "## **After the analysis, train the model for 5 epochs and save**"
      ],
      "metadata": {
        "id": "Co0vaSpMiOau"
      }
    },
    {
      "cell_type": "code",
      "source": [
        "# Create the neural network model with two hidden layers\n",
        "model = Sequential([Dense(5, input_shape=(7,),activation='relu')])\n",
        "model.add(layers.Dense(3))\n",
        "model.add(layers.Activation(activations.relu))\n",
        "model.add(layers.Dense(1, activation='sigmoid'))\n",
        "model.summary()"
      ],
      "metadata": {
        "colab": {
          "base_uri": "https://localhost:8080/"
        },
        "id": "L7ZhoKQQ2MkJ",
        "outputId": "b85b8aaf-b5db-4012-e471-d099507760b7"
      },
      "execution_count": 5,
      "outputs": [
        {
          "output_type": "stream",
          "name": "stdout",
          "text": [
            "Model: \"sequential_1\"\n",
            "_________________________________________________________________\n",
            " Layer (type)                Output Shape              Param #   \n",
            "=================================================================\n",
            " dense_3 (Dense)             (None, 5)                 40        \n",
            "                                                                 \n",
            " dense_4 (Dense)             (None, 3)                 18        \n",
            "                                                                 \n",
            " activation_1 (Activation)   (None, 3)                 0         \n",
            "                                                                 \n",
            " dense_5 (Dense)             (None, 1)                 4         \n",
            "                                                                 \n",
            "=================================================================\n",
            "Total params: 62\n",
            "Trainable params: 62\n",
            "Non-trainable params: 0\n",
            "_________________________________________________________________\n"
          ]
        }
      ]
    },
    {
      "cell_type": "code",
      "source": [
        "# Rerun the construction of the model, then train\n",
        "\n",
        "opt = keras.optimizers.Adam()\n",
        "model.compile(optimizer=opt,\n",
        "              loss='binary_crossentropy',\n",
        "              metrics=['accuracy'])\n",
        "\n",
        "history_fit = model.fit(X, y, epochs=5, batch_size=1, verbose = 2, validation_data= (X_test_shuffled, y_test_shuffled))"
      ],
      "metadata": {
        "colab": {
          "base_uri": "https://localhost:8080/"
        },
        "id": "Lkcl0_mCh-ut",
        "outputId": "2368e5ad-b65f-45f0-a7ff-29fd0ec62d8c"
      },
      "execution_count": null,
      "outputs": [
        {
          "output_type": "stream",
          "name": "stdout",
          "text": [
            "Epoch 1/5\n",
            "200/200 - 1s - loss: 0.4287 - accuracy: 0.6650 - val_loss: 0.3752 - val_accuracy: 0.8200 - 882ms/epoch - 4ms/step\n",
            "Epoch 2/5\n",
            "200/200 - 0s - loss: 0.3309 - accuracy: 0.8700 - val_loss: 0.2870 - val_accuracy: 0.9600 - 252ms/epoch - 1ms/step\n",
            "Epoch 3/5\n",
            "200/200 - 0s - loss: 0.2481 - accuracy: 0.9650 - val_loss: 0.1999 - val_accuracy: 1.0000 - 247ms/epoch - 1ms/step\n",
            "Epoch 4/5\n",
            "200/200 - 0s - loss: 0.1693 - accuracy: 0.9950 - val_loss: 0.1329 - val_accuracy: 1.0000 - 261ms/epoch - 1ms/step\n",
            "Epoch 5/5\n",
            "200/200 - 0s - loss: 0.1115 - accuracy: 1.0000 - val_loss: 0.0917 - val_accuracy: 1.0000 - 267ms/epoch - 1ms/step\n"
          ]
        }
      ]
    },
    {
      "cell_type": "code",
      "source": [
        "# summarize history for accuracy\n",
        "plt.plot(history_fit.history['accuracy'])\n",
        "plt.plot(history_fit.history['val_accuracy'])\n",
        "plt.title('model accuracy')\n",
        "plt.ylabel('accuracy')\n",
        "plt.xlabel('epoch')\n",
        "plt.legend(['Train', 'Validation'], loc='upper left')\n",
        "#plt.show()\n",
        "plt.savefig('FinalModel_ResultsAccuracy_ToyExample_5epochs.pdf')"
      ],
      "metadata": {
        "colab": {
          "base_uri": "https://localhost:8080/",
          "height": 480
        },
        "id": "MjuuANDzikiL",
        "outputId": "5187669f-a5bc-4df3-adaa-1017da9f0871"
      },
      "execution_count": null,
      "outputs": [
        {
          "output_type": "display_data",
          "data": {
            "text/plain": [
              "<Figure size 640x480 with 1 Axes>"
            ],
            "image/png": "[encoded data removed]"
          },
          "metadata": {}
        }
      ]
    },
    {
      "cell_type": "code",
      "source": [
        "# summarize history for loss\n",
        "plt.plot(history_fit.history['loss'])\n",
        "plt.plot(history_fit.history['val_loss'])\n",
        "plt.title('model loss')\n",
        "plt.ylabel('loss')\n",
        "plt.xlabel('epoch')\n",
        "plt.legend(['Train', 'Validation'], loc='upper left')\n",
        "#plt.show()\n",
        "plt.savefig('FinalModel_ResultsLoss_ToyExample_5epochs.pdf')"
      ],
      "metadata": {
        "colab": {
          "base_uri": "https://localhost:8080/",
          "height": 480
        },
        "id": "9_LjFdvjisLk",
        "outputId": "81b107ce-d3dc-451d-f9f2-e70eda45ed00"
      },
      "execution_count": null,
      "outputs": [
        {
          "output_type": "display_data",
          "data": {
            "text/plain": [
              "<Figure size 640x480 with 1 Axes>"
            ],
            "image/png": "[encoded data removed]"
          },
          "metadata": {}
        }
      ]
    },
    {
      "cell_type": "code",
      "source": [
        "# convert the history_fit.history dict to a pandas DataFrame:     \n",
        "hist_df = pd.DataFrame(history_fit.history) \n",
        "# save to csv: \n",
        "hist_csv_file = 'history_toyexample_5epochs.csv'\n",
        "with open(hist_csv_file, mode='w') as f:\n",
        "    hist_df.to_csv(f)"
      ],
      "metadata": {
        "id": "AUxU8ltGixzW"
      },
      "execution_count": null,
      "outputs": []
    },
    {
      "cell_type": "code",
      "source": [
        "# Check the summary of the final model\n",
        "model.summary()"
      ],
      "metadata": {
        "colab": {
          "base_uri": "https://localhost:8080/"
        },
        "id": "uqX1rdcXjr0N",
        "outputId": "c6970c9c-b1e6-4074-c196-a6312c9dd678"
      },
      "execution_count": 6,
      "outputs": [
        {
          "output_type": "stream",
          "name": "stdout",
          "text": [
            "Model: \"sequential_1\"\n",
            "_________________________________________________________________\n",
            " Layer (type)                Output Shape              Param #   \n",
            "=================================================================\n",
            " dense_3 (Dense)             (None, 5)                 40        \n",
            "                                                                 \n",
            " dense_4 (Dense)             (None, 3)                 18        \n",
            "                                                                 \n",
            " activation_1 (Activation)   (None, 3)                 0         \n",
            "                                                                 \n",
            " dense_5 (Dense)             (None, 1)                 4         \n",
            "                                                                 \n",
            "=================================================================\n",
            "Total params: 62\n",
            "Trainable params: 62\n",
            "Non-trainable params: 0\n",
            "_________________________________________________________________\n"
          ]
        }
      ]
    },
    {
      "cell_type": "code",
      "source": [
        "# Save the model\n",
        "model.save('03042023_ToyExample_Model7-5-3-1_Keras.h5')"
      ],
      "metadata": {
        "id": "d398rT6Ljy_W"
      },
      "execution_count": null,
      "outputs": []
    },
    {
      "cell_type": "code",
      "source": [
        "# Find the right layer to produce embeddings\n",
        "for layer in model.layers:\n",
        "    print(layer.name) # dense_4 is the embedding layer"
      ],
      "metadata": {
        "colab": {
          "base_uri": "https://localhost:8080/"
        },
        "id": "qKp7kBJFj2Ps",
        "outputId": "e06d4543-72ab-49d3-a897-16abe0c37c7a"
      },
      "execution_count": 7,
      "outputs": [
        {
          "output_type": "stream",
          "name": "stdout",
          "text": [
            "dense_3\n",
            "dense_4\n",
            "activation_1\n",
            "dense_5\n"
          ]
        }
      ]
    },
    {
      "cell_type": "code",
      "source": [
        "# Create a new model where the output is the embedding \n",
        "layer_embed = 'dense_4'\n",
        "intermediate_layer_model = Model(inputs=model.input,\n",
        "                                 outputs=model.get_layer(layer_embed).output)"
      ],
      "metadata": {
        "id": "V1aGOlKZj6rV"
      },
      "execution_count": null,
      "outputs": []
    },
    {
      "cell_type": "code",
      "source": [
        "# Save the second, \"truncated\" model\n",
        "intermediate_layer_model.save('03042023_ToyExample_EmbeddingModel7-5-3_Keras.h5')"
      ],
      "metadata": {
        "colab": {
          "base_uri": "https://localhost:8080/"
        },
        "id": "wpQeI3AvkDFm",
        "outputId": "00975539-7a64-4401-9c72-a07e07d412ef"
      },
      "execution_count": null,
      "outputs": [
        {
          "output_type": "stream",
          "name": "stderr",
          "text": [
            "WARNING:tensorflow:Compiled the loaded model, but the compiled metrics have yet to be built. `model.compile_metrics` will be empty until you train or evaluate the model.\n"
          ]
        }
      ]
    },
    {
      "cell_type": "markdown",
      "source": [
        "### Phase I: Training data"
      ],
      "metadata": {
        "id": "n1_X05rt_DSX"
      }
    },
    {
      "cell_type": "code",
      "source": [
        "# Create embeddings for the training data\n",
        "intermediate_output_training = intermediate_layer_model.predict(X)"
      ],
      "metadata": {
        "colab": {
          "base_uri": "https://localhost:8080/"
        },
        "id": "dTX1GZ3WotOa",
        "outputId": "22af403a-d3c0-42ef-f690-b46d90da4718"
      },
      "execution_count": null,
      "outputs": [
        {
          "output_type": "stream",
          "name": "stdout",
          "text": [
            "7/7 [==============================] - 0s 2ms/step\n"
          ]
        }
      ]
    },
    {
      "cell_type": "code",
      "source": [
        "# Plot the training embeddings\n",
        "neuron1 = intermediate_output_training[:,0]\n",
        "neuron2 = intermediate_output_training[:,1]\n",
        "neuron3 = intermediate_output_training[:,2]"
      ],
      "metadata": {
        "id": "C1AiwcTiqztd"
      },
      "execution_count": null,
      "outputs": []
    },
    {
      "cell_type": "code",
      "source": [
        "# Create a 3D-plot\n",
        "ax = plt.axes(projection='3d')\n",
        "ax.scatter(neuron1, neuron2, neuron3)"
      ],
      "metadata": {
        "colab": {
          "base_uri": "https://localhost:8080/",
          "height": 433
        },
        "id": "hsJzISMHrKBd",
        "outputId": "21acfa05-c80a-464e-9e2d-1f20051c860c"
      },
      "execution_count": null,
      "outputs": [
        {
          "output_type": "execute_result",
          "data": {
            "text/plain": [
              "<mpl_toolkits.mplot3d.art3d.Path3DCollection at 0x7f1c041c8040>"
            ]
          },
          "metadata": {},
          "execution_count": 74
        },
        {
          "output_type": "display_data",
          "data": {
            "text/plain": [
              "<Figure size 640x480 with 1 Axes>"
            ],
            "image/png": "[encoded data removed]"
          },
          "metadata": {}
        }
      ]
    },
    {
      "cell_type": "code",
      "source": [
        "# Save predictions, i.e., the scores produced of the neural network of a sample to belong to the class 1\n",
        "\n",
        "predictions_Xtrain = model.predict(X)"
      ],
      "metadata": {
        "colab": {
          "base_uri": "https://localhost:8080/"
        },
        "id": "NaOlYfs1rkqN",
        "outputId": "18fab69a-5ff8-4a44-a3a1-d490f3bee2c1"
      },
      "execution_count": null,
      "outputs": [
        {
          "output_type": "stream",
          "name": "stdout",
          "text": [
            "7/7 [==============================] - 0s 2ms/step\n"
          ]
        }
      ]
    },
    {
      "cell_type": "code",
      "source": [
        "# Check the predictions of the training data\n",
        "predictions_Xtrain"
      ],
      "metadata": {
        "colab": {
          "base_uri": "https://localhost:8080/"
        },
        "id": "cCYcV_K6rpDG",
        "outputId": "a5f7601d-604f-4257-df84-97ff2334ba6b"
      },
      "execution_count": null,
      "outputs": [
        {
          "output_type": "execute_result",
          "data": {
            "text/plain": [
              "array([[0.04290228],\n",
              "       [0.99489635],\n",
              "       [0.9946031 ],\n",
              "       [0.10715401],\n",
              "       [0.99364233],\n",
              "       [0.99236673],\n",
              "       [0.12446572],\n",
              "       [0.9971283 ],\n",
              "       [0.15201579],\n",
              "       [0.9955178 ],\n",
              "       [0.20651011],\n",
              "       [0.99594396],\n",
              "       [0.9930497 ],\n",
              "       [0.9954355 ],\n",
              "       [0.08485786],\n",
              "       [0.14936212],\n",
              "       [0.24252194],\n",
              "       [0.9921354 ],\n",
              "       [0.03022225],\n",
              "       [0.09254034],\n",
              "       [0.99253225],\n",
              "       [0.99537235],\n",
              "       [0.1076676 ],\n",
              "       [0.9947885 ],\n",
              "       [0.09215324],\n",
              "       [0.99586964],\n",
              "       [0.9958852 ],\n",
              "       [0.9937674 ],\n",
              "       [0.99529195],\n",
              "       [0.0252469 ],\n",
              "       [0.2733208 ],\n",
              "       [0.03793409],\n",
              "       [0.99578416],\n",
              "       [0.9943437 ],\n",
              "       [0.16806228],\n",
              "       [0.99621785],\n",
              "       [0.98885554],\n",
              "       [0.14001857],\n",
              "       [0.23501535],\n",
              "       [0.9951999 ],\n",
              "       [0.99646944],\n",
              "       [0.16418692],\n",
              "       [0.02377298],\n",
              "       [0.99407536],\n",
              "       [0.9966571 ],\n",
              "       [0.04318316],\n",
              "       [0.14280279],\n",
              "       [0.33755493],\n",
              "       [0.99220055],\n",
              "       [0.98919684],\n",
              "       [0.03521415],\n",
              "       [0.9958602 ],\n",
              "       [0.9966953 ],\n",
              "       [0.08422191],\n",
              "       [0.9935158 ],\n",
              "       [0.15675232],\n",
              "       [0.20589511],\n",
              "       [0.9953845 ],\n",
              "       [0.09887982],\n",
              "       [0.12436739],\n",
              "       [0.990566  ],\n",
              "       [0.17876548],\n",
              "       [0.9954044 ],\n",
              "       [0.3516854 ],\n",
              "       [0.9889973 ],\n",
              "       [0.27738988],\n",
              "       [0.11058602],\n",
              "       [0.99437517],\n",
              "       [0.25833228],\n",
              "       [0.27125686],\n",
              "       [0.99491894],\n",
              "       [0.05629999],\n",
              "       [0.99429375],\n",
              "       [0.994411  ],\n",
              "       [0.99617517],\n",
              "       [0.27125686],\n",
              "       [0.9958162 ],\n",
              "       [0.26008835],\n",
              "       [0.16496319],\n",
              "       [0.9950936 ],\n",
              "       [0.9901428 ],\n",
              "       [0.24298772],\n",
              "       [0.99309623],\n",
              "       [0.99662304],\n",
              "       [0.9979907 ],\n",
              "       [0.11556195],\n",
              "       [0.02720191],\n",
              "       [0.17695789],\n",
              "       [0.99540365],\n",
              "       [0.99606276],\n",
              "       [0.04002054],\n",
              "       [0.24339911],\n",
              "       [0.99446917],\n",
              "       [0.09638666],\n",
              "       [0.9943053 ],\n",
              "       [0.9930814 ],\n",
              "       [0.99014026],\n",
              "       [0.99659216],\n",
              "       [0.27741253],\n",
              "       [0.995274  ],\n",
              "       [0.98956853],\n",
              "       [0.9940564 ],\n",
              "       [0.08012591],\n",
              "       [0.16132697],\n",
              "       [0.20624827],\n",
              "       [0.9907204 ],\n",
              "       [0.12594491],\n",
              "       [0.27125686],\n",
              "       [0.9957244 ],\n",
              "       [0.25666064],\n",
              "       [0.2038508 ],\n",
              "       [0.23271737],\n",
              "       [0.07552019],\n",
              "       [0.28288588],\n",
              "       [0.27191275],\n",
              "       [0.9977313 ],\n",
              "       [0.25855   ],\n",
              "       [0.99612653],\n",
              "       [0.9941011 ],\n",
              "       [0.05994126],\n",
              "       [0.08952828],\n",
              "       [0.14656432],\n",
              "       [0.99502397],\n",
              "       [0.13188137],\n",
              "       [0.9909874 ],\n",
              "       [0.13374022],\n",
              "       [0.27125686],\n",
              "       [0.9943331 ],\n",
              "       [0.9931104 ],\n",
              "       [0.99470085],\n",
              "       [0.24467668],\n",
              "       [0.09440749],\n",
              "       [0.27106246],\n",
              "       [0.9958599 ],\n",
              "       [0.99454814],\n",
              "       [0.9896465 ],\n",
              "       [0.99621284],\n",
              "       [0.04703822],\n",
              "       [0.99454427],\n",
              "       [0.21695754],\n",
              "       [0.9947059 ],\n",
              "       [0.99750143],\n",
              "       [0.27125686],\n",
              "       [0.36035386],\n",
              "       [0.03534835],\n",
              "       [0.11908362],\n",
              "       [0.99659723],\n",
              "       [0.99695337],\n",
              "       [0.0694901 ],\n",
              "       [0.9901342 ],\n",
              "       [0.9962089 ],\n",
              "       [0.9978068 ],\n",
              "       [0.2649675 ],\n",
              "       [0.27273983],\n",
              "       [0.9891372 ],\n",
              "       [0.27125686],\n",
              "       [0.99574864],\n",
              "       [0.9964267 ],\n",
              "       [0.22221373],\n",
              "       [0.05017214],\n",
              "       [0.99640864],\n",
              "       [0.9913853 ],\n",
              "       [0.05554068],\n",
              "       [0.9945855 ],\n",
              "       [0.9971166 ],\n",
              "       [0.99221915],\n",
              "       [0.20114572],\n",
              "       [0.987966  ],\n",
              "       [0.99562883],\n",
              "       [0.9975554 ],\n",
              "       [0.27238664],\n",
              "       [0.13423339],\n",
              "       [0.17149179],\n",
              "       [0.13788103],\n",
              "       [0.9940933 ],\n",
              "       [0.99701965],\n",
              "       [0.9955263 ],\n",
              "       [0.18174487],\n",
              "       [0.04055376],\n",
              "       [0.09698711],\n",
              "       [0.9921494 ],\n",
              "       [0.01634414],\n",
              "       [0.996394  ],\n",
              "       [0.9962701 ],\n",
              "       [0.9936117 ],\n",
              "       [0.0725992 ],\n",
              "       [0.05890967],\n",
              "       [0.99812424],\n",
              "       [0.06974997],\n",
              "       [0.05037651],\n",
              "       [0.13330069],\n",
              "       [0.15462674],\n",
              "       [0.03439553],\n",
              "       [0.17204   ],\n",
              "       [0.994221  ],\n",
              "       [0.09479744],\n",
              "       [0.9980922 ],\n",
              "       [0.9855991 ],\n",
              "       [0.11769684],\n",
              "       [0.9966317 ]], dtype=float32)"
            ]
          },
          "metadata": {},
          "execution_count": 79
        }
      ]
    },
    {
      "cell_type": "code",
      "source": [
        "# Phase I: in-control data from training samples\n",
        "\n",
        "f = open('ToyExample_traindata_trainingdata.txt', 'w')\n",
        "np.savetxt(f, X)\n",
        "f.close()\n",
        "\n",
        "intermediate_output_training = intermediate_layer_model.predict(X)\n",
        "f = open('ToyExample_traindata_embeddings3d.txt', 'w')\n",
        "np.savetxt(f, intermediate_output_training)\n",
        "f.close()"
      ],
      "metadata": {
        "colab": {
          "base_uri": "https://localhost:8080/"
        },
        "id": "i3oBuF5pkIHs",
        "outputId": "65098b24-895a-4669-fea3-3a721e36d48b"
      },
      "execution_count": null,
      "outputs": [
        {
          "output_type": "stream",
          "name": "stdout",
          "text": [
            "7/7 [==============================] - 0s 1ms/step\n"
          ]
        }
      ]
    },
    {
      "cell_type": "code",
      "source": [
        "# Save the labels of the training data\n",
        "f = open('ToyExample_traindata_labels.txt', 'w')\n",
        "np.savetxt(f, y)\n",
        "f.close()"
      ],
      "metadata": {
        "id": "C1cCJV2knN7S"
      },
      "execution_count": null,
      "outputs": []
    },
    {
      "cell_type": "code",
      "source": [
        "# Save predictions, i.e., the scores produced of the neural network of a sample to belong to the class 1\n",
        "predictions_Xtrain = model.predict(X)"
      ],
      "metadata": {
        "colab": {
          "base_uri": "https://localhost:8080/"
        },
        "id": "N4i39OKzvpC2",
        "outputId": "dbaadd66-3d0e-4327-94b5-36a1070b7cfd"
      },
      "execution_count": null,
      "outputs": [
        {
          "output_type": "stream",
          "name": "stdout",
          "text": [
            "7/7 [==============================] - 0s 2ms/step\n"
          ]
        }
      ]
    },
    {
      "cell_type": "code",
      "source": [
        "# Set binary labels\n",
        "predictions_Xtrain_binary = predictions_Xtrain\n",
        "predictions_Xtrain_binary[predictions_Xtrain_binary <= 0.5] = 0\n",
        "predictions_Xtrain_binary[predictions_Xtrain_binary > 0.5] = 1"
      ],
      "metadata": {
        "id": "oZErAtmrv3dF"
      },
      "execution_count": null,
      "outputs": []
    },
    {
      "cell_type": "code",
      "source": [
        "# Create a data frame with different ways of having the output/prediction\n",
        "predictions_train = pd.DataFrame(y) # add real labels\n",
        "predictions_train['prediction'] = predictions_Xtrain_binary\n",
        "predictions_train['score'] = model.predict(X)"
      ],
      "metadata": {
        "id": "5cdQwiVMv5j_"
      },
      "execution_count": null,
      "outputs": []
    },
    {
      "cell_type": "code",
      "source": [
        "# Save the data frame with different ways of having the output/prediction\n",
        "f = open('train_labels_scores_toyexample.txt', 'w')\n",
        "np.savetxt(f, predictions_train)\n",
        "f.close()"
      ],
      "metadata": {
        "id": "dICPuDF4wZ9W"
      },
      "execution_count": null,
      "outputs": []
    },
    {
      "cell_type": "markdown",
      "source": [
        "### Phase II In-Control: Test Data"
      ],
      "metadata": {
        "id": "4YXehgce_zPn"
      }
    },
    {
      "cell_type": "code",
      "source": [
        "# Phase II In-Control: Create embeddings of the Test Data and save original input\n",
        "f = open('ToyExample_testdata.txt', 'w')\n",
        "np.savetxt(f, X_test_shuffled)\n",
        "f.close()\n",
        "\n",
        "intermediate_output_test = intermediate_layer_model.predict(X_test_shuffled)\n",
        "f = open('ToyExample_testdata_embeddings3d.txt', 'w')\n",
        "np.savetxt(f, intermediate_output_test)\n",
        "f.close()"
      ],
      "metadata": {
        "id": "pyHn3pTgwgF2",
        "colab": {
          "base_uri": "https://localhost:8080/"
        },
        "outputId": "6d3a8632-630b-4e59-9bdf-d349272de2bf"
      },
      "execution_count": null,
      "outputs": [
        {
          "output_type": "stream",
          "name": "stdout",
          "text": [
            "2/2 [==============================] - 0s 5ms/step\n"
          ]
        }
      ]
    },
    {
      "cell_type": "code",
      "source": [
        "# Predictions: Test Data\n",
        "predictions_Xtest = model.predict(X_test_shuffled)"
      ],
      "metadata": {
        "colab": {
          "base_uri": "https://localhost:8080/"
        },
        "id": "1SHkm_tbxBmW",
        "outputId": "c0c3f287-68a9-4d08-bf30-bb81cbba45fa"
      },
      "execution_count": null,
      "outputs": [
        {
          "output_type": "stream",
          "name": "stdout",
          "text": [
            "2/2 [==============================] - 0s 4ms/step\n"
          ]
        }
      ]
    },
    {
      "cell_type": "code",
      "source": [
        "# Set binary labels\n",
        "predictions_Xtest_binary = predictions_Xtest\n",
        "predictions_Xtest_binary[predictions_Xtest_binary <= 0.5] = 0\n",
        "predictions_Xtest_binary[predictions_Xtest_binary > 0.5] = 1"
      ],
      "metadata": {
        "id": "GYu57uSaxohn"
      },
      "execution_count": null,
      "outputs": []
    },
    {
      "cell_type": "code",
      "source": [
        "# Create a data frame with different ways of having the output/prediction\n",
        "predictions_test = pd.DataFrame(y_test_shuffled) # add real labels\n",
        "predictions_test['prediction'] = predictions_Xtest_binary\n",
        "predictions_test['score'] = model.predict(X_test_shuffled)"
      ],
      "metadata": {
        "colab": {
          "base_uri": "https://localhost:8080/"
        },
        "id": "AeuA0_UhyCaZ",
        "outputId": "9234fcac-2167-43ee-d218-ec657d9c09ed"
      },
      "execution_count": null,
      "outputs": [
        {
          "output_type": "stream",
          "name": "stdout",
          "text": [
            "2/2 [==============================] - 0s 3ms/step\n"
          ]
        }
      ]
    },
    {
      "cell_type": "code",
      "source": [
        "# Save the data frame with different ways of having the output/prediction\n",
        "f = open('test_labels_scores_toyexample.txt', 'w')\n",
        "np.savetxt(f, predictions_test)\n",
        "f.close()"
      ],
      "metadata": {
        "id": "DKcI8Wn2ygXk"
      },
      "execution_count": null,
      "outputs": []
    },
    {
      "cell_type": "markdown",
      "source": [
        "### Phase II Out-of-Control: New Data"
      ],
      "metadata": {
        "id": "M87ATPVgAFwW"
      }
    },
    {
      "cell_type": "code",
      "source": [
        "# Create new class - Phase II Out-of-control\n",
        "m_new = np.full((d,), 5.0)"
      ],
      "metadata": {
        "id": "AawosSt_zG-P"
      },
      "execution_count": null,
      "outputs": []
    },
    {
      "cell_type": "code",
      "source": [
        "m_new"
      ],
      "metadata": {
        "colab": {
          "base_uri": "https://localhost:8080/"
        },
        "id": "m7HRWTbFzLSn",
        "outputId": "eba99ddd-168c-4aa1-dfcd-6d88afca5b80"
      },
      "execution_count": null,
      "outputs": [
        {
          "output_type": "execute_result",
          "data": {
            "text/plain": [
              "array([5., 5., 5., 5., 5., 5., 5.])"
            ]
          },
          "metadata": {},
          "execution_count": 97
        }
      ]
    },
    {
      "cell_type": "code",
      "source": [
        "# Use the same variance-covariance matrix as for the first sample\n",
        "cov_mat_new = cov_mat_1 "
      ],
      "metadata": {
        "id": "QwVcofzWzTMS"
      },
      "execution_count": null,
      "outputs": []
    },
    {
      "cell_type": "code",
      "source": [
        "# Generate 50 samples from a new multivariate Gaussian distribution \n",
        "n_outofcontrol = 50\n",
        "\n",
        "X_new = np.random.multivariate_normal(mean=m_new, cov=cov_mat_new, size=n_outofcontrol)"
      ],
      "metadata": {
        "id": "4pbcQYmHzcsf"
      },
      "execution_count": null,
      "outputs": []
    },
    {
      "cell_type": "code",
      "source": [
        "# Create embeddings from the out-of-control data\n",
        "intermediate_output_outofcontrol = intermediate_layer_model.predict(X_new)"
      ],
      "metadata": {
        "colab": {
          "base_uri": "https://localhost:8080/"
        },
        "id": "FRtRru7qzfHP",
        "outputId": "ff22c904-98b7-4a93-f267-81e3f6ea0f74"
      },
      "execution_count": null,
      "outputs": [
        {
          "output_type": "stream",
          "name": "stdout",
          "text": [
            "2/2 [==============================] - 0s 3ms/step\n"
          ]
        }
      ]
    },
    {
      "cell_type": "code",
      "source": [
        "# Check the embeddings of the out-of-control data\n",
        "intermediate_output_outofcontrol"
      ],
      "metadata": {
        "colab": {
          "base_uri": "https://localhost:8080/"
        },
        "id": "E-FyLsoz3WUv",
        "outputId": "ca6e5706-68bc-4dc2-a62e-2830bb5a2701"
      },
      "execution_count": null,
      "outputs": [
        {
          "output_type": "execute_result",
          "data": {
            "text/plain": [
              "array([[-2.8298416 ,  0.43725425,  5.3905096 ],\n",
              "       [-2.8024907 ,  0.6497834 ,  6.09308   ],\n",
              "       [-2.8538165 ,  0.73465335,  6.954339  ],\n",
              "       [-2.373476  ,  0.97266084,  7.097217  ],\n",
              "       [-3.5812826 ,  0.3433864 ,  4.9867625 ],\n",
              "       [-4.323459  ,  2.7017918 ,  7.252895  ],\n",
              "       [-4.232179  ,  0.27828807,  7.72839   ],\n",
              "       [-2.722996  ,  0.73378396,  5.4602547 ],\n",
              "       [-2.1796722 ,  0.51042175,  4.204689  ],\n",
              "       [-2.7782438 ,  0.43647105,  4.0396633 ],\n",
              "       [-2.507993  ,  0.57821023,  6.1084023 ],\n",
              "       [-3.3300586 ,  0.3778679 ,  5.712816  ],\n",
              "       [-3.0058045 ,  0.42399925,  6.9600406 ],\n",
              "       [-3.1289945 ,  0.58365965,  6.3253155 ],\n",
              "       [-3.402142  ,  0.36526197,  4.9872413 ],\n",
              "       [-2.6880593 ,  0.54680866,  6.5054984 ],\n",
              "       [-3.0478098 ,  1.091406  ,  6.911799  ],\n",
              "       [-3.0271177 ,  0.6424452 ,  7.1931915 ],\n",
              "       [-3.3405757 ,  2.109066  ,  7.133655  ],\n",
              "       [-2.995566  ,  0.41861874,  5.695517  ],\n",
              "       [-2.949753  ,  0.41884303,  4.6715217 ],\n",
              "       [-3.6073394 ,  0.3420249 ,  5.3338494 ],\n",
              "       [-1.3737826 ,  1.9579725 ,  5.4200063 ],\n",
              "       [-2.789625  ,  1.2712913 ,  6.8327885 ],\n",
              "       [-3.5204277 ,  0.3591815 ,  6.5819917 ],\n",
              "       [-2.837383  ,  0.43501067,  5.138241  ],\n",
              "       [-2.992403  ,  0.41928446,  5.7488236 ],\n",
              "       [-3.3662937 ,  0.3674571 ,  4.5711217 ],\n",
              "       [-3.4269323 ,  1.0994339 ,  6.997723  ],\n",
              "       [-3.678616  ,  0.33846933,  6.3154907 ],\n",
              "       [-3.8521254 ,  0.501727  ,  6.5858264 ],\n",
              "       [-3.3368983 ,  0.4472052 ,  7.151855  ],\n",
              "       [-2.597218  ,  0.46932402,  6.089751  ],\n",
              "       [-2.457922  ,  0.47816262,  4.5317593 ],\n",
              "       [-3.0583005 ,  0.4062737 ,  4.8020253 ],\n",
              "       [-2.5666118 ,  0.9096855 ,  5.8206677 ],\n",
              "       [-2.320775  ,  1.0407066 ,  5.8110046 ],\n",
              "       [-2.716786  ,  0.44700748,  4.6179714 ],\n",
              "       [-3.2702482 ,  0.6531241 ,  6.6635947 ],\n",
              "       [-3.9090214 ,  0.31611738,  7.4178743 ],\n",
              "       [-3.7786183 ,  0.3170663 ,  4.5623474 ],\n",
              "       [-3.6566916 ,  0.34513086,  7.075377  ],\n",
              "       [-4.101839  ,  1.2130967 ,  7.222845  ],\n",
              "       [-2.8773255 ,  0.51675534,  6.6606565 ],\n",
              "       [-3.1156573 ,  0.40703452,  6.2827077 ],\n",
              "       [-3.7397065 ,  0.33478802,  7.035944  ],\n",
              "       [-3.6134825 ,  0.34529856,  6.101219  ],\n",
              "       [-3.2145958 ,  0.39215344,  5.748582  ],\n",
              "       [-3.4466822 ,  0.36986536,  6.9022975 ],\n",
              "       [-3.143893  ,  0.40548086,  6.6438823 ]], dtype=float32)"
            ]
          },
          "metadata": {},
          "execution_count": 104
        }
      ]
    },
    {
      "cell_type": "code",
      "source": [
        "# Prepare the embeddings for visualisation\n",
        "neuron1_outofcontrol = intermediate_output_outofcontrol[:,0]\n",
        "neuron2_outofcontrol = intermediate_output_outofcontrol[:,1]\n",
        "neuron3_outofcontrol = intermediate_output_outofcontrol[:,2]"
      ],
      "metadata": {
        "id": "XIsDlTn9tktJ"
      },
      "execution_count": null,
      "outputs": []
    },
    {
      "cell_type": "code",
      "source": [
        "# Create a 3D-plot\n",
        "ax = plt.axes(projection='3d')\n",
        "ax.scatter(neuron1_outofcontrol, neuron2_outofcontrol, neuron3_outofcontrol)"
      ],
      "metadata": {
        "colab": {
          "base_uri": "https://localhost:8080/",
          "height": 432
        },
        "id": "uPwdTxf3tvwA",
        "outputId": "6f6cae4b-1f69-46ce-bc09-5c41dcd70ff5"
      },
      "execution_count": null,
      "outputs": [
        {
          "output_type": "execute_result",
          "data": {
            "text/plain": [
              "<mpl_toolkits.mplot3d.art3d.Path3DCollection at 0x7f1c046601c0>"
            ]
          },
          "metadata": {},
          "execution_count": 106
        },
        {
          "output_type": "display_data",
          "data": {
            "text/plain": [
              "<Figure size 640x480 with 1 Axes>"
            ],
            "image/png": "[encoded data removed]"
          },
          "metadata": {}
        }
      ]
    },
    {
      "cell_type": "code",
      "source": [
        "# Save the original out-of-control samples and their embeddings \n",
        "f = open('ToyExample_outofcontroldata.txt', 'w')\n",
        "np.savetxt(f, X_new)\n",
        "f.close()\n",
        "\n",
        "intermediate_output_new = intermediate_layer_model.predict(X_new)\n",
        "f = open('ToyExample_outofcontroldata_embeddings3d.txt', 'w')\n",
        "np.savetxt(f, intermediate_output_new)\n",
        "f.close()"
      ],
      "metadata": {
        "colab": {
          "base_uri": "https://localhost:8080/"
        },
        "id": "ZniNoL7ezjBB",
        "outputId": "313d1ca2-cfc9-4458-9188-403da5e5ca6d"
      },
      "execution_count": null,
      "outputs": [
        {
          "output_type": "stream",
          "name": "stdout",
          "text": [
            "2/2 [==============================] - 0s 3ms/step\n"
          ]
        }
      ]
    },
    {
      "cell_type": "code",
      "source": [
        "# Predictions: New (out-of-control) Data\n",
        "predictions_Xnew = model.predict(X_new)"
      ],
      "metadata": {
        "colab": {
          "base_uri": "https://localhost:8080/"
        },
        "id": "ZKk8wQs90iGy",
        "outputId": "65189eb3-980c-4913-abe8-df256e05b717"
      },
      "execution_count": null,
      "outputs": [
        {
          "output_type": "stream",
          "name": "stdout",
          "text": [
            "2/2 [==============================] - 0s 4ms/step\n"
          ]
        }
      ]
    },
    {
      "cell_type": "code",
      "source": [
        "# Check predictions\n",
        "predictions_Xnew"
      ],
      "metadata": {
        "colab": {
          "base_uri": "https://localhost:8080/"
        },
        "id": "gqSRHUvUt9kS",
        "outputId": "33186eae-b7c1-47ed-8d63-f45336906189"
      },
      "execution_count": null,
      "outputs": [
        {
          "output_type": "execute_result",
          "data": {
            "text/plain": [
              "array([[0.8450697 ],\n",
              "       [0.8677649 ],\n",
              "       [0.9023206 ],\n",
              "       [0.894074  ],\n",
              "       [0.8280172 ],\n",
              "       [0.7446251 ],\n",
              "       [0.9468565 ],\n",
              "       [0.82259685],\n",
              "       [0.7504363 ],\n",
              "       [0.7452204 ],\n",
              "       [0.87384427],\n",
              "       [0.8680956 ],\n",
              "       [0.9190705 ],\n",
              "       [0.8841116 ],\n",
              "       [0.8259949 ],\n",
              "       [0.89466745],\n",
              "       [0.87755877],\n",
              "       [0.9163739 ],\n",
              "       [0.80283105],\n",
              "       [0.8640676 ],\n",
              "       [0.79844034],\n",
              "       [0.84976774],\n",
              "       [0.6708566 ],\n",
              "       [0.8599628 ],\n",
              "       [0.908693  ],\n",
              "       [0.8294091 ],\n",
              "       [0.86688215],\n",
              "       [0.7963999 ],\n",
              "       [0.8812075 ],\n",
              "       [0.89919674],\n",
              "       [0.9007872 ],\n",
              "       [0.92435986],\n",
              "       [0.8806113 ],\n",
              "       [0.781276  ],\n",
              "       [0.8092395 ],\n",
              "       [0.8299119 ],\n",
              "       [0.8167612 ],\n",
              "       [0.7913971 ],\n",
              "       [0.89497054],\n",
              "       [0.9377288 ],\n",
              "       [0.8010648 ],\n",
              "       [0.92654526],\n",
              "       [0.88424504],\n",
              "       [0.9029716 ],\n",
              "       [0.8936138 ],\n",
              "       [0.9257643 ],\n",
              "       [0.889429  ],\n",
              "       [0.8689107 ],\n",
              "       [0.91972756],\n",
              "       [0.9085427 ]], dtype=float32)"
            ]
          },
          "metadata": {},
          "execution_count": 109
        }
      ]
    },
    {
      "cell_type": "code",
      "source": [
        "# Set binary labels\n",
        "predictions_Xnew_binary = predictions_Xnew\n",
        "predictions_Xnew_binary[predictions_Xnew_binary <= 0.5] = 0\n",
        "predictions_Xnew_binary[predictions_Xnew_binary > 0.5] = 1"
      ],
      "metadata": {
        "id": "6iqNQqn51Gg7"
      },
      "execution_count": null,
      "outputs": []
    },
    {
      "cell_type": "code",
      "source": [
        "# Create a data frame with different ways of having the output/prediction\n",
        "predictions_new = pd.DataFrame(np.repeat(2, n_outofcontrol)) # add new label\n",
        "predictions_new['prediction'] = predictions_Xnew_binary\n",
        "predictions_new['score'] = model.predict(X_new)"
      ],
      "metadata": {
        "colab": {
          "base_uri": "https://localhost:8080/"
        },
        "id": "0ijd1EMO1PhT",
        "outputId": "ee179a13-42ce-461c-dc71-23d4083d0ddf"
      },
      "execution_count": null,
      "outputs": [
        {
          "output_type": "stream",
          "name": "stdout",
          "text": [
            "2/2 [==============================] - 0s 6ms/step\n"
          ]
        }
      ]
    },
    {
      "cell_type": "code",
      "source": [
        "# Save the data frame with different ways of having the output/prediction\n",
        "f = open('outofcontrol_labels_scores_toyexample.txt', 'w')\n",
        "np.savetxt(f, predictions_new)\n",
        "f.close()"
      ],
      "metadata": {
        "id": "q8e_0_Ps1xVs"
      },
      "execution_count": null,
      "outputs": []
    }
  ]
}